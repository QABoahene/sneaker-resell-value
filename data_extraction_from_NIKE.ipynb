{
 "cells": [
  {
   "cell_type": "markdown",
   "id": "50145716",
   "metadata": {},
   "source": [
    "# Getting data from nike.com\n",
    "---"
   ]
  },
  {
   "cell_type": "code",
   "execution_count": 1,
   "id": "08618e2f",
   "metadata": {
    "code_folding": [
     0
    ]
   },
   "outputs": [],
   "source": [
    "# Modules import\n",
    "import pandas as pd\n",
    "import requests as req\n",
    "import json\n",
    "import re\n",
    "\n",
    "# Product page\n",
    "uri = 'https://www.nike.com/w/mens-shoes-nik1zy7ok'\n",
    "url = 'https://www.nike.com/gb/launch?s=upcoming'\n",
    "base_url = 'https://api.nike.com'\n",
    "session = req.Session()\n",
    "\n",
    "\n",
    "# A function for retrieving lazily loaded products\n",
    "def get_lazy_products(stub, products):\n",
    "    response = session.get(base_url + stub).json()\n",
    "    next_products = response['pages']['next']\n",
    "    products += response['objects']\n",
    "    if next_products:\n",
    "        get_lazy_products(next_products, products)\n",
    "    return products\n",
    "\n",
    "\n",
    "# find INITIAL_REDUX_STATE\n",
    "html_data = session.get(uri).text\n",
    "redux = json.loads(\n",
    "    re.search(r'window.INITIAL_REDUX_STATE=(\\{.*?\\});', html_data).group(1))\n",
    "\n",
    "# find the initial products and the api entry point for the recursive loading of additional products\n",
    "wall = redux['Wall']\n",
    "initial_products = re.sub('anchor=[0-9]+', 'anchor=0',\n",
    "                          wall['pageData']['next'])\n",
    "\n",
    "# find all the products\n",
    "products = get_lazy_products(initial_products, [])\n",
    "\n",
    "# Optional: filter by id to get a list with unique products\n",
    "cloudProductIds = set()\n",
    "unique_products = []\n",
    "for product in products:\n",
    "    try:\n",
    "        if not product['id'] in cloudProductIds:\n",
    "            cloudProductIds.add(product['id'])\n",
    "            unique_products.append(product)\n",
    "    except KeyError:\n",
    "        print(product)"
   ]
  },
  {
   "cell_type": "markdown",
   "id": "cd3e021a",
   "metadata": {},
   "source": [
    "## Trying out another method"
   ]
  },
  {
   "cell_type": "code",
   "execution_count": 2,
   "id": "9acad664",
   "metadata": {},
   "outputs": [],
   "source": [
    "# Importing modules\n",
    "import lxml\n",
    "import re\n",
    "import numpy as np\n",
    "import pandas as pd\n",
    "from bs4 import BeautifulSoup\n",
    "from requests import get"
   ]
  },
  {
   "cell_type": "code",
   "execution_count": 8,
   "id": "92746eb3",
   "metadata": {},
   "outputs": [],
   "source": [
    "url = \"https://www.nike.com/gb/launch?s=upcoming\""
   ]
  },
  {
   "cell_type": "code",
   "execution_count": 9,
   "id": "9d17a508",
   "metadata": {},
   "outputs": [],
   "source": [
    "#Getting the html page of the website using requests.get(url) framework\n",
    "webpage = get(url)"
   ]
  },
  {
   "cell_type": "code",
   "execution_count": 11,
   "id": "29db6272",
   "metadata": {},
   "outputs": [],
   "source": [
    "#Parsing data from the html page\n",
    "soup = BeautifulSoup(webpage.content, 'lxml')"
   ]
  },
  {
   "cell_type": "code",
   "execution_count": 20,
   "id": "8d7b3c7b",
   "metadata": {},
   "outputs": [],
   "source": [
    "#Getting the element or tag that holds the movie content\n",
    "content = soup.find(class_=\"ncss-container feed-container-inner\")"
   ]
  },
  {
   "cell_type": "code",
   "execution_count": 22,
   "id": "4c981b91",
   "metadata": {},
   "outputs": [],
   "source": [
    "shoes = content.find_all(\"figure\", class_ = \"d-md-h ncss-col-sm-12 va-sm-t pb0-sm prl0-sm\")"
   ]
  },
  {
   "cell_type": "code",
   "execution_count": 21,
   "id": "2542016f",
   "metadata": {
    "collapsed": true
   },
   "outputs": [
    {
     "data": {
      "text/plain": [
       "<div class=\"ncss-container feed-container-inner\" data-qa=\"product-wall\"><section class=\"upcoming-section bg-white ncss-row prl2-md prl5-lg pb4-md pb6-lg\" data-qa=\"upcoming-section\"><figure class=\"pb2-sm va-sm-t ncss-col-sm-12 ncss-col-md-6 ncss-col-lg-4 pb4-md prl0-sm prl2-md ncss-col-sm-6 ncss-col-lg-3 pb4-md prl2-md pl0-md pr1-md d-sm-h d-md-ib\"><div class=\"product-card ncss-row mr0-sm ml0-sm\" data-qa=\"product-card-0\"><div class=\"ncss-col-sm-12 full\"><a aria-label=\"Air Force 1 Mid Jewel 'NYC Cool Grey' Release Date\" class=\"card-link d-sm-b\" data-qa=\"product-card-link\" href=\"/gb/launch/t/air-force-1-mid-jewel-nyc-cool-grey\"><div class=\"launch-time ta-sm-l d-sm-h d-md-b z10 mod-bg-grey pt6-sm pl6-sm\"><div class=\"launch-caption ta-sm-c\"><p class=\"headline-4\" data-qa=\"test-startDate\">Oct</p><p class=\"headline-1\" data-qa=\"test-day\">20</p></div></div><div style=\"position:absolute;top:0;right:0;bottom:0;left:0\"></div></a><figcaption class=\"ncss-row\"><div class=\"ncss-col-sm-12 full\"><div class=\"figcaption-content\"><div class=\"copy-container ta-sm-c bg-white pt6-sm pb7-sm pb7-lg\"><h3 class=\"headline-5\">Air Force 1 Mid Jewel<!-- --> </h3><h6 class=\"headline-3\">NYC Cool Grey<!-- --> </h6></div><div class=\"cta-container bg-white pt6-sm pb7-sm prl12-sm pb8-sm pt8-lg ta-sm-c\" data-qa=\"shop-now-cta\"><img alt=\"loading\" class=\"image-component d-sm-ib\" data-qa=\"spinner-img\" height=\"24\" src=\"https://www.nike.com/assets/experience/dotcom-snkrs/ux/builds/spinner.8a5c38a4b31c99f34e449cde7ceb2d71.gif\" style=\"opacity:0\" title=\"loading\" width=\"24\"/></div></div></div></figcaption></div></div></figure><figure class=\"pb2-sm va-sm-t ncss-col-sm-12 ncss-col-md-6 ncss-col-lg-4 pb4-md prl0-sm prl2-md ncss-col-sm-6 ncss-col-lg-3 pb4-md prl2-md pl1-md pr0-md d-sm-h d-md-ib\"><div class=\"product-card ncss-row mr0-sm ml0-sm\" data-qa=\"product-card-1\"><div class=\"ncss-col-sm-12 full\"><a aria-label=\"Air Force 1 Mid Jewel 'NYC Midnight Navy' Release Date\" class=\"card-link d-sm-b\" data-qa=\"product-card-link\" href=\"/gb/launch/t/air-force-1-mid-jewel-nyc-midnight-navy\"><div class=\"launch-time ta-sm-l d-sm-h d-md-b z10 mod-bg-grey pt6-sm pl6-sm\"><div class=\"launch-caption ta-sm-c\"><p class=\"headline-4\" data-qa=\"test-startDate\">Oct</p><p class=\"headline-1\" data-qa=\"test-day\">20</p></div></div><div style=\"position:absolute;top:0;right:0;bottom:0;left:0\"></div></a><figcaption class=\"ncss-row\"><div class=\"ncss-col-sm-12 full\"><div class=\"figcaption-content\"><div class=\"copy-container ta-sm-c bg-white pt6-sm pb7-sm pb7-lg\"><h3 class=\"headline-5\">Air Force 1 Mid Jewel<!-- --> </h3><h6 class=\"headline-3\">NYC Midnight Navy<!-- --> </h6></div><div class=\"cta-container bg-white pt6-sm pb7-sm prl12-sm pb8-sm pt8-lg ta-sm-c\" data-qa=\"shop-now-cta\"><img alt=\"loading\" class=\"image-component d-sm-ib\" data-qa=\"spinner-img\" height=\"24\" src=\"https://www.nike.com/assets/experience/dotcom-snkrs/ux/builds/spinner.8a5c38a4b31c99f34e449cde7ceb2d71.gif\" style=\"opacity:0\" title=\"loading\" width=\"24\"/></div></div></div></figcaption></div></div></figure><figure class=\"pb2-sm va-sm-t ncss-col-sm-12 ncss-col-md-6 ncss-col-lg-4 pb4-md prl0-sm prl2-md ncss-col-sm-6 ncss-col-lg-3 pb4-md prl2-md pl0-md pr1-md d-sm-h d-md-ib\"><div class=\"product-card ncss-row mr0-sm ml0-sm\" data-qa=\"product-card-2\"><div class=\"ncss-col-sm-12 full\"><a aria-label=\"Air Force 1 'Purple Skeleton' (CU8067-500) Release Date\" class=\"card-link d-sm-b\" data-qa=\"product-card-link\" href=\"/gb/launch/t/air-force-1-purple-skeleton\"><div class=\"launch-time ta-sm-l d-sm-h d-md-b z10 mod-bg-grey pt6-sm pl6-sm\"><div class=\"launch-caption ta-sm-c\"><p class=\"headline-4\" data-qa=\"test-startDate\">Oct</p><p class=\"headline-1\" data-qa=\"test-day\">28</p></div></div><div style=\"position:absolute;top:0;right:0;bottom:0;left:0\"></div></a><figcaption class=\"ncss-row\"><div class=\"ncss-col-sm-12 full\"><div class=\"figcaption-content\"><div class=\"copy-container ta-sm-c bg-white pt6-sm pb7-sm pb7-lg\"><h3 class=\"headline-5\">Air Force 1<!-- --> </h3><h6 class=\"headline-3\">Purple Skeleton<!-- --> </h6></div><div class=\"cta-container bg-white pt6-sm pb7-sm prl12-sm pb8-sm pt8-lg ta-sm-c\" data-qa=\"shop-now-cta\"><img alt=\"loading\" class=\"image-component d-sm-ib\" data-qa=\"spinner-img\" height=\"24\" src=\"https://www.nike.com/assets/experience/dotcom-snkrs/ux/builds/spinner.8a5c38a4b31c99f34e449cde7ceb2d71.gif\" style=\"opacity:0\" title=\"loading\" width=\"24\"/></div></div></div></figcaption></div></div></figure><figure class=\"pb2-sm va-sm-t ncss-col-sm-12 ncss-col-md-6 ncss-col-lg-4 pb4-md prl0-sm prl2-md ncss-col-sm-6 ncss-col-lg-3 pb4-md prl2-md pl1-md pr0-md d-sm-h d-md-ib\"><div class=\"product-card ncss-row mr0-sm ml0-sm\" data-qa=\"product-card-3\"><div class=\"ncss-col-sm-12 full\"><a aria-label=\"SB Dunk Low 'Mummy' (DM0774-111) Release Date\" class=\"card-link d-sm-b\" data-qa=\"product-card-link\" href=\"/gb/launch/t/sb-dunk-low-mummy\"><div class=\"launch-time ta-sm-l d-sm-h d-md-b z10 mod-bg-grey pt6-sm pl6-sm\"><div class=\"launch-caption ta-sm-c\"><p class=\"headline-4\" data-qa=\"test-startDate\">Oct</p><p class=\"headline-1\" data-qa=\"test-day\">28</p></div></div><div style=\"position:absolute;top:0;right:0;bottom:0;left:0\"></div></a><figcaption class=\"ncss-row\"><div class=\"ncss-col-sm-12 full\"><div class=\"figcaption-content\"><div class=\"copy-container ta-sm-c bg-white pt6-sm pb7-sm pb7-lg\"><h3 class=\"headline-5\">SB Dunk Low<!-- --> </h3><h6 class=\"headline-3\">Mummy<!-- --> </h6></div><div class=\"cta-container bg-white pt6-sm pb7-sm prl12-sm pb8-sm pt8-lg ta-sm-c\" data-qa=\"shop-now-cta\"><img alt=\"loading\" class=\"image-component d-sm-ib\" data-qa=\"spinner-img\" height=\"24\" src=\"https://www.nike.com/assets/experience/dotcom-snkrs/ux/builds/spinner.8a5c38a4b31c99f34e449cde7ceb2d71.gif\" style=\"opacity:0\" title=\"loading\" width=\"24\"/></div></div></div></figcaption></div></div></figure><figure class=\"pb2-sm va-sm-t ncss-col-sm-12 ncss-col-md-6 ncss-col-lg-4 pb4-md prl0-sm prl2-md ncss-col-sm-6 ncss-col-lg-3 pb4-md prl2-md pl0-md pr1-md d-sm-h d-md-ib\"><div class=\"product-card ncss-row mr0-sm ml0-sm\" data-qa=\"product-card-4\"><div class=\"ncss-col-sm-12 full\"><a aria-label=\"Air Jordan 3 'Pine Green' (CT8532-030) Release Date\" class=\"card-link d-sm-b\" data-qa=\"product-card-link\" href=\"/gb/launch/t/air-jordan-3-pine-green-emea\"><div class=\"launch-time ta-sm-l d-sm-h d-md-b z10 mod-bg-grey pt6-sm pl6-sm\"><div class=\"launch-caption ta-sm-c\"><p class=\"headline-4\" data-qa=\"test-startDate\">Oct</p><p class=\"headline-1\" data-qa=\"test-day\">30</p></div></div><div style=\"position:absolute;top:0;right:0;bottom:0;left:0\"></div></a><figcaption class=\"ncss-row\"><div class=\"ncss-col-sm-12 full\"><div class=\"figcaption-content\"><div class=\"copy-container ta-sm-c bg-white pt6-sm pb7-sm pb7-lg\"><h3 class=\"headline-5\">Air Jordan 3<!-- --> </h3><h6 class=\"headline-3\">Pine Green<!-- --> </h6></div><div class=\"cta-container bg-white pt6-sm pb7-sm prl12-sm pb8-sm pt8-lg ta-sm-c\" data-qa=\"shop-now-cta\"><img alt=\"loading\" class=\"image-component d-sm-ib\" data-qa=\"spinner-img\" height=\"24\" src=\"https://www.nike.com/assets/experience/dotcom-snkrs/ux/builds/spinner.8a5c38a4b31c99f34e449cde7ceb2d71.gif\" style=\"opacity:0\" title=\"loading\" width=\"24\"/></div></div></div></figcaption></div></div></figure><figure class=\"d-md-h ncss-col-sm-12 va-sm-t pb0-sm prl0-sm\"><div class=\"bg-lightestgrey upcoming ncss-col-sm-12\"><h2 class=\"headline-5 mr4-sm ml4-sm mt4-sm mb5-sm\">20 Oct</h2></div><div class=\"upcoming upcoming-card ncss-row mr0-sm ml0-sm\"><div class=\"ncss-col-sm-3 full\"><a class=\"card-link d-sm-b\" href=\"/gb/launch/t/air-force-1-mid-jewel-nyc-cool-grey\"><img alt=\"image\" class=\"image-component\" src=\"https://secure-images.nike.com/is/image/DotCom/DH5622_001_A_PREM?$SNKRS_COVER_WD$&amp;align=0,1\" style=\"opacity:0\" title=\"image\"/></a></div><a class=\"ncss-col-sm-8 launch-details u-full-height va-sm-t full\" href=\"/gb/launch/t/air-force-1-mid-jewel-nyc-cool-grey\"><div class=\"d-sm-t u-full-height ml3-sm\"><div class=\"d-sm-tc va-sm-m\"><h3 class=\"headline-5 mb1-sm fs16-sm\"> <!-- -->Air Force 1 Mid Jewel</h3><h6 class=\"text-color-secondary mb-1-sm body-3\"><div class=\"available-date-component\">Available 10/20 at 7:00 AM</div></h6></div></div></a></div></figure><figure class=\"d-md-h ncss-col-sm-12 va-sm-t pb0-sm prl0-sm\"><div class=\"upcoming upcoming-card ncss-row mr0-sm ml0-sm\"><div class=\"ncss-col-sm-3 full\"><a class=\"card-link d-sm-b\" href=\"/gb/launch/t/air-force-1-mid-jewel-nyc-midnight-navy\"><img alt=\"image\" class=\"image-component\" src=\"https://secure-images.nike.com/is/image/DotCom/DH5622_100_A_PREM?$SNKRS_COVER_WD$&amp;align=0,1\" style=\"opacity:0\" title=\"image\"/></a></div><a class=\"ncss-col-sm-8 launch-details u-full-height va-sm-t full\" href=\"/gb/launch/t/air-force-1-mid-jewel-nyc-midnight-navy\"><div class=\"d-sm-t u-full-height ml3-sm\"><div class=\"d-sm-tc va-sm-m\"><h3 class=\"headline-5 mb1-sm fs16-sm\"> <!-- -->Air Force 1 Mid Jewel</h3><h6 class=\"text-color-secondary mb-1-sm body-3\"><div class=\"available-date-component\">Available 10/20 at 7:00 AM</div></h6></div></div></a></div></figure><figure class=\"d-md-h ncss-col-sm-12 va-sm-t pb0-sm prl0-sm\"><div class=\"bg-lightestgrey upcoming ncss-col-sm-12\"><h2 class=\"headline-5 mr4-sm ml4-sm mt4-sm mb5-sm\">28 Oct</h2></div><div class=\"upcoming upcoming-card ncss-row mr0-sm ml0-sm\"><div class=\"ncss-col-sm-3 full\"><a class=\"card-link d-sm-b\" href=\"/gb/launch/t/air-force-1-purple-skeleton\"><img alt=\"image\" class=\"image-component\" src=\"https://secure-images.nike.com/is/image/DotCom/CU8067_500_A_PREM?$SNKRS_COVER_WD$&amp;align=0,1\" style=\"opacity:0\" title=\"image\"/></a></div><a class=\"ncss-col-sm-8 launch-details u-full-height va-sm-t full\" href=\"/gb/launch/t/air-force-1-purple-skeleton\"><div class=\"d-sm-t u-full-height ml3-sm\"><div class=\"d-sm-tc va-sm-m\"><h3 class=\"headline-5 mb1-sm fs16-sm\"> <!-- -->Air Force 1</h3><h6 class=\"text-color-secondary mb-1-sm body-3\"><div class=\"available-date-component\">Available 10/28 at 7:00 AM</div></h6></div></div></a></div></figure><figure class=\"d-md-h ncss-col-sm-12 va-sm-t pb0-sm prl0-sm\"><div class=\"upcoming upcoming-card ncss-row mr0-sm ml0-sm\"><div class=\"ncss-col-sm-3 full\"><a class=\"card-link d-sm-b\" href=\"/gb/launch/t/sb-dunk-low-mummy\"><img alt=\"image\" class=\"image-component\" src=\"https://secure-images.nike.com/is/image/DotCom/DM0774_111_A_PREM?$SNKRS_COVER_WD$&amp;align=0,1\" style=\"opacity:0\" title=\"image\"/></a></div><a class=\"ncss-col-sm-8 launch-details u-full-height va-sm-t full\" href=\"/gb/launch/t/sb-dunk-low-mummy\"><div class=\"d-sm-t u-full-height ml3-sm\"><div class=\"d-sm-tc va-sm-m\"><h3 class=\"headline-5 mb1-sm fs16-sm\"> <!-- -->SB Dunk Low</h3><h6 class=\"text-color-secondary mb-1-sm body-3\"><div class=\"available-date-component\">Available 10/28 at 7:00 AM</div></h6></div></div></a></div></figure><figure class=\"d-md-h ncss-col-sm-12 va-sm-t pb0-sm prl0-sm\"><div class=\"bg-lightestgrey upcoming ncss-col-sm-12\"><h2 class=\"headline-5 mr4-sm ml4-sm mt4-sm mb5-sm\">30 Oct</h2></div><div class=\"upcoming upcoming-card ncss-row mr0-sm ml0-sm\"><div class=\"ncss-col-sm-3 full\"><a class=\"card-link d-sm-b\" href=\"/gb/launch/t/air-jordan-3-pine-green-emea\"><img alt=\"image\" class=\"image-component\" src=\"https://secure-images.nike.com/is/image/DotCom/CT8532_030_A_PREM?$SNKRS_COVER_WD$&amp;align=0,1\" style=\"opacity:0\" title=\"image\"/></a></div><a class=\"ncss-col-sm-8 launch-details u-full-height va-sm-t full\" href=\"/gb/launch/t/air-jordan-3-pine-green-emea\"><div class=\"d-sm-t u-full-height ml3-sm\"><div class=\"d-sm-tc va-sm-m\"><h3 class=\"headline-5 mb1-sm fs16-sm\"> <!-- -->Air Jordan 3</h3><h6 class=\"text-color-secondary mb-1-sm body-3\"><div class=\"available-date-component\">Available 10/30 at 7:00 AM</div></h6></div></div></a></div></figure></section><section class=\"load-more bg-white ncss-row\"><div class=\"ncss-col-sm-12 full\"><button class=\"ncss-brand ncss-btn-white border-top-light-grey d-sm-b u-uppercase u-full-width pt6-sm pb6-sm pt12-lg pb11-lg\" type=\"button\">Load More</button></div></section></div>"
      ]
     },
     "execution_count": 21,
     "metadata": {},
     "output_type": "execute_result"
    }
   ],
   "source": [
    "content"
   ]
  },
  {
   "cell_type": "code",
   "execution_count": 24,
   "id": "62390618",
   "metadata": {},
   "outputs": [
    {
     "data": {
      "text/plain": [
       "[<figure class=\"d-md-h ncss-col-sm-12 va-sm-t pb0-sm prl0-sm\"><div class=\"bg-lightestgrey upcoming ncss-col-sm-12\"><h2 class=\"headline-5 mr4-sm ml4-sm mt4-sm mb5-sm\">20 Oct</h2></div><div class=\"upcoming upcoming-card ncss-row mr0-sm ml0-sm\"><div class=\"ncss-col-sm-3 full\"><a class=\"card-link d-sm-b\" href=\"/gb/launch/t/air-force-1-mid-jewel-nyc-cool-grey\"><img alt=\"image\" class=\"image-component\" src=\"https://secure-images.nike.com/is/image/DotCom/DH5622_001_A_PREM?$SNKRS_COVER_WD$&amp;align=0,1\" style=\"opacity:0\" title=\"image\"/></a></div><a class=\"ncss-col-sm-8 launch-details u-full-height va-sm-t full\" href=\"/gb/launch/t/air-force-1-mid-jewel-nyc-cool-grey\"><div class=\"d-sm-t u-full-height ml3-sm\"><div class=\"d-sm-tc va-sm-m\"><h3 class=\"headline-5 mb1-sm fs16-sm\"> <!-- -->Air Force 1 Mid Jewel</h3><h6 class=\"text-color-secondary mb-1-sm body-3\"><div class=\"available-date-component\">Available 10/20 at 7:00 AM</div></h6></div></div></a></div></figure>,\n",
       " <figure class=\"d-md-h ncss-col-sm-12 va-sm-t pb0-sm prl0-sm\"><div class=\"upcoming upcoming-card ncss-row mr0-sm ml0-sm\"><div class=\"ncss-col-sm-3 full\"><a class=\"card-link d-sm-b\" href=\"/gb/launch/t/air-force-1-mid-jewel-nyc-midnight-navy\"><img alt=\"image\" class=\"image-component\" src=\"https://secure-images.nike.com/is/image/DotCom/DH5622_100_A_PREM?$SNKRS_COVER_WD$&amp;align=0,1\" style=\"opacity:0\" title=\"image\"/></a></div><a class=\"ncss-col-sm-8 launch-details u-full-height va-sm-t full\" href=\"/gb/launch/t/air-force-1-mid-jewel-nyc-midnight-navy\"><div class=\"d-sm-t u-full-height ml3-sm\"><div class=\"d-sm-tc va-sm-m\"><h3 class=\"headline-5 mb1-sm fs16-sm\"> <!-- -->Air Force 1 Mid Jewel</h3><h6 class=\"text-color-secondary mb-1-sm body-3\"><div class=\"available-date-component\">Available 10/20 at 7:00 AM</div></h6></div></div></a></div></figure>,\n",
       " <figure class=\"d-md-h ncss-col-sm-12 va-sm-t pb0-sm prl0-sm\"><div class=\"bg-lightestgrey upcoming ncss-col-sm-12\"><h2 class=\"headline-5 mr4-sm ml4-sm mt4-sm mb5-sm\">28 Oct</h2></div><div class=\"upcoming upcoming-card ncss-row mr0-sm ml0-sm\"><div class=\"ncss-col-sm-3 full\"><a class=\"card-link d-sm-b\" href=\"/gb/launch/t/air-force-1-purple-skeleton\"><img alt=\"image\" class=\"image-component\" src=\"https://secure-images.nike.com/is/image/DotCom/CU8067_500_A_PREM?$SNKRS_COVER_WD$&amp;align=0,1\" style=\"opacity:0\" title=\"image\"/></a></div><a class=\"ncss-col-sm-8 launch-details u-full-height va-sm-t full\" href=\"/gb/launch/t/air-force-1-purple-skeleton\"><div class=\"d-sm-t u-full-height ml3-sm\"><div class=\"d-sm-tc va-sm-m\"><h3 class=\"headline-5 mb1-sm fs16-sm\"> <!-- -->Air Force 1</h3><h6 class=\"text-color-secondary mb-1-sm body-3\"><div class=\"available-date-component\">Available 10/28 at 7:00 AM</div></h6></div></div></a></div></figure>,\n",
       " <figure class=\"d-md-h ncss-col-sm-12 va-sm-t pb0-sm prl0-sm\"><div class=\"upcoming upcoming-card ncss-row mr0-sm ml0-sm\"><div class=\"ncss-col-sm-3 full\"><a class=\"card-link d-sm-b\" href=\"/gb/launch/t/sb-dunk-low-mummy\"><img alt=\"image\" class=\"image-component\" src=\"https://secure-images.nike.com/is/image/DotCom/DM0774_111_A_PREM?$SNKRS_COVER_WD$&amp;align=0,1\" style=\"opacity:0\" title=\"image\"/></a></div><a class=\"ncss-col-sm-8 launch-details u-full-height va-sm-t full\" href=\"/gb/launch/t/sb-dunk-low-mummy\"><div class=\"d-sm-t u-full-height ml3-sm\"><div class=\"d-sm-tc va-sm-m\"><h3 class=\"headline-5 mb1-sm fs16-sm\"> <!-- -->SB Dunk Low</h3><h6 class=\"text-color-secondary mb-1-sm body-3\"><div class=\"available-date-component\">Available 10/28 at 7:00 AM</div></h6></div></div></a></div></figure>,\n",
       " <figure class=\"d-md-h ncss-col-sm-12 va-sm-t pb0-sm prl0-sm\"><div class=\"bg-lightestgrey upcoming ncss-col-sm-12\"><h2 class=\"headline-5 mr4-sm ml4-sm mt4-sm mb5-sm\">30 Oct</h2></div><div class=\"upcoming upcoming-card ncss-row mr0-sm ml0-sm\"><div class=\"ncss-col-sm-3 full\"><a class=\"card-link d-sm-b\" href=\"/gb/launch/t/air-jordan-3-pine-green-emea\"><img alt=\"image\" class=\"image-component\" src=\"https://secure-images.nike.com/is/image/DotCom/CT8532_030_A_PREM?$SNKRS_COVER_WD$&amp;align=0,1\" style=\"opacity:0\" title=\"image\"/></a></div><a class=\"ncss-col-sm-8 launch-details u-full-height va-sm-t full\" href=\"/gb/launch/t/air-jordan-3-pine-green-emea\"><div class=\"d-sm-t u-full-height ml3-sm\"><div class=\"d-sm-tc va-sm-m\"><h3 class=\"headline-5 mb1-sm fs16-sm\"> <!-- -->Air Jordan 3</h3><h6 class=\"text-color-secondary mb-1-sm body-3\"><div class=\"available-date-component\">Available 10/30 at 7:00 AM</div></h6></div></div></a></div></figure>]"
      ]
     },
     "execution_count": 24,
     "metadata": {},
     "output_type": "execute_result"
    }
   ],
   "source": [
    "shoes"
   ]
  },
  {
   "cell_type": "code",
   "execution_count": 25,
   "id": "b0e7a520",
   "metadata": {},
   "outputs": [],
   "source": [
    "# Creating a class to extract data from the SNKRS webpage\n",
    "class SNKRS:\n",
    "    '''Creating a docstring for the webpage for SNKRS'''\n",
    "    def __init__(self, url):\n",
    "        self.soup = self.soup_gen(url)\n",
    "        self.url_start = \"https://www.nike.com\"\n",
    "        self.url_end = \"\"\n",
    "\n",
    "    def soup_gen(self, url):\n",
    "        snkrs_webpage = get(url)\n",
    "        soup = BeautifulSoup(webpage.content, 'lxml')\n",
    "        return soup\n",
    "\n",
    "    def feed_content(self):\n",
    "        content = soup.find(class_=\"ncss-container feed-container-inner\")\n",
    "        return content.find_all(\"figure\", class_ = \"d-md-h ncss-col-sm-12 va-sm-t pb0-sm prl0-sm\")"
   ]
  },
  {
   "cell_type": "code",
   "execution_count": null,
   "id": "95cf16d9",
   "metadata": {},
   "outputs": [],
   "source": []
  }
 ],
 "metadata": {
  "kernelspec": {
   "display_name": "Python 3",
   "language": "python",
   "name": "python3"
  },
  "language_info": {
   "codemirror_mode": {
    "name": "ipython",
    "version": 3
   },
   "file_extension": ".py",
   "mimetype": "text/x-python",
   "name": "python",
   "nbconvert_exporter": "python",
   "pygments_lexer": "ipython3",
   "version": "3.8.8"
  }
 },
 "nbformat": 4,
 "nbformat_minor": 5
}
